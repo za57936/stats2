{
 "cells": [
  {
   "cell_type": "code",
   "execution_count": 8,
   "metadata": {},
   "outputs": [
    {
     "name": "stdout",
     "output_type": "stream",
     "text": [
      "probability that a person undertaking that test has answered exactly 5 questions wrong is : 3.4264958230778575e-06\n"
     ]
    }
   ],
   "source": [
    "import math    #importing math package \n",
    "#1 given problem is of binomial distribution category \n",
    "#so using formula p(x)=nCr*((p)**r)*((1-p)**(1-r)) to get the answer\n",
    "p1 = (math.factorial(20)/(math.factorial(5)*math.factorial(15)))*((3/4)**5)*((1/4)**15)\n",
    "print(\"probability that a person undertaking that test has answered exactly 5 questions wrong is : \"+str(p1))"
   ]
  },
  {
   "cell_type": "code",
   "execution_count": 9,
   "metadata": {},
   "outputs": [
    {
     "name": "stdout",
     "output_type": "stream",
     "text": [
      "probability of getting a “D” exactly 5 times is : 0.03\n"
     ]
    }
   ],
   "source": [
    "#2 this problem is also of binomial distribution category so using above mentioned formula again\n",
    "p2 = (math.factorial(50)/(math.factorial(5)*math.factorial(45)))*((1/5)**5)*((4/5)**45)\n",
    "print(\"probability of getting a “D” exactly 5 times is : \"+str(round(p2,2)))"
   ]
  },
  {
   "cell_type": "code",
   "execution_count": 10,
   "metadata": {},
   "outputs": [
    {
     "name": "stdout",
     "output_type": "stream",
     "text": [
      "Probability of both drawn balls to be red is : 0.13\n",
      "Probability of both drawn balls to be black is : 0.33\n",
      "Probability of first drawn ball to be red and second drawn ball to be black is : 0.27\n",
      "Probability of first drawn ball to be black and second drawn ball to be red is : 0.27\n"
     ]
    }
   ],
   "source": [
    "#3 total 4 outcomes are possible \n",
    "x1 = (4/10)*(3/9)        #i.both drawn balls are red\n",
    "print(\"Probability of both drawn balls to be red is : \"+ str(round(x1,2)))\n",
    "x2 = (6/10)*(5/9)        #ii. both drawn balls are black\n",
    "print(\"Probability of both drawn balls to be black is : \"+ str(round(x2,2)))\n",
    "x3 = (4/10)*(6/9)        #iii. first drawn ball is red, second drawn ball is black\n",
    "print(\"Probability of first drawn ball to be red and second drawn ball to be black is : \"+ str(round(x3,2)))\n",
    "x4 = (6/10)*(4/9)        #iv. first drawn ball is black, second drawn ball is red\n",
    "\n",
    "print(\"Probability of first drawn ball to be black and second drawn ball to be red is : \"+ str(round(x4,2)))"
   ]
  },
  {
   "cell_type": "code",
   "execution_count": null,
   "metadata": {},
   "outputs": [],
   "source": []
  }
 ],
 "metadata": {
  "kernelspec": {
   "display_name": "Python 3",
   "language": "python",
   "name": "python3"
  },
  "language_info": {
   "codemirror_mode": {
    "name": "ipython",
    "version": 3
   },
   "file_extension": ".py",
   "mimetype": "text/x-python",
   "name": "python",
   "nbconvert_exporter": "python",
   "pygments_lexer": "ipython3",
   "version": "3.7.0"
  }
 },
 "nbformat": 4,
 "nbformat_minor": 2
}
